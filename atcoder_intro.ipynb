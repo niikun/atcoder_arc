{
  "nbformat": 4,
  "nbformat_minor": 0,
  "metadata": {
    "colab": {
      "provenance": [],
      "authorship_tag": "ABX9TyOoTnC7CyDGhdrROKNzBGMa",
      "include_colab_link": true
    },
    "kernelspec": {
      "name": "python3",
      "display_name": "Python 3"
    },
    "language_info": {
      "name": "python"
    }
  },
  "cells": [
    {
      "cell_type": "markdown",
      "metadata": {
        "id": "view-in-github",
        "colab_type": "text"
      },
      "source": [
        "<a href=\"https://colab.research.google.com/github/niikun/atcoder_arc/blob/main/atcoder_intro.ipynb\" target=\"_parent\"><img src=\"https://colab.research.google.com/assets/colab-badge.svg\" alt=\"Open In Colab\"/></a>"
      ]
    },
    {
      "cell_type": "markdown",
      "source": [
        "## 問題文\n",
        "整数\n",
        "A,B,C が与えられます。  \n",
        "$A ^2 +B^2 <C^2$  \n",
        "  かを判定してください"
      ],
      "metadata": {
        "id": "D9TXfVKq9IuQ"
      }
    },
    {
      "cell_type": "code",
      "execution_count": null,
      "metadata": {
        "colab": {
          "base_uri": "https://localhost:8080/"
        },
        "id": "rB9DiTf12f9C",
        "outputId": "022b96a8-0212-406f-cfb3-bccd3afb5000"
      },
      "outputs": [
        {
          "name": "stdout",
          "output_type": "stream",
          "text": [
            "2 2 4\n"
          ]
        }
      ],
      "source": [
        "A,B,C = map(int,input().split())"
      ]
    },
    {
      "cell_type": "code",
      "source": [
        "A, B, C"
      ],
      "metadata": {
        "colab": {
          "base_uri": "https://localhost:8080/"
        },
        "id": "XHArbAyy3e6_",
        "outputId": "4b32b419-d4b6-46bf-c327-5d2b45875953"
      },
      "execution_count": null,
      "outputs": [
        {
          "output_type": "execute_result",
          "data": {
            "text/plain": [
              "(2, 2, 4)"
            ]
          },
          "metadata": {},
          "execution_count": 30
        }
      ]
    },
    {
      "cell_type": "code",
      "source": [
        "A ** 2 + B ** 2 < C ** 2"
      ],
      "metadata": {
        "colab": {
          "base_uri": "https://localhost:8080/"
        },
        "id": "ZyKalaFZ3nzF",
        "outputId": "e20897aa-5c84-43d7-fc18-30633e3bae3b"
      },
      "execution_count": null,
      "outputs": [
        {
          "output_type": "execute_result",
          "data": {
            "text/plain": [
              "True"
            ]
          },
          "metadata": {},
          "execution_count": 31
        }
      ]
    },
    {
      "cell_type": "code",
      "source": [
        "A,B,C = map(int,input().split())\n",
        "if A ** 2 + B ** 2 < C ** 2:\n",
        "    print(\"Yes\")\n",
        "else:\n",
        "    print(\"No\")\n"
      ],
      "metadata": {
        "colab": {
          "base_uri": "https://localhost:8080/"
        },
        "id": "7UqbX59f4pEn",
        "outputId": "15f6c767-4c2d-4f41-bd88-d834c100af13"
      },
      "execution_count": null,
      "outputs": [
        {
          "output_type": "stream",
          "name": "stdout",
          "text": [
            "10 10 10\n",
            "No\n"
          ]
        }
      ]
    },
    {
      "cell_type": "markdown",
      "source": [
        "## A-Rotate  \n",
        "長さ 3 の文字列 $S$ が与えられます。  \n",
        "$S$ の先頭の文字を $S$ の末尾に移動して得られる文字列$S′$\n",
        "  を出力してください。\n"
      ],
      "metadata": {
        "id": "ifnzO1dG-Wou"
      }
    },
    {
      "cell_type": "code",
      "source": [
        "S = input()\n",
        "S"
      ],
      "metadata": {
        "colab": {
          "base_uri": "https://localhost:8080/",
          "height": 55
        },
        "id": "oLriV5AD7oc5",
        "outputId": "cba47f30-f555-497f-a2bd-cd5c3d9073d8"
      },
      "execution_count": null,
      "outputs": [
        {
          "name": "stdout",
          "output_type": "stream",
          "text": [
            "abc\n"
          ]
        },
        {
          "output_type": "execute_result",
          "data": {
            "text/plain": [
              "'abc'"
            ],
            "application/vnd.google.colaboratory.intrinsic+json": {
              "type": "string"
            }
          },
          "metadata": {},
          "execution_count": 35
        }
      ]
    },
    {
      "cell_type": "code",
      "source": [
        "S[1:]+S[0]"
      ],
      "metadata": {
        "colab": {
          "base_uri": "https://localhost:8080/",
          "height": 36
        },
        "id": "XfTrS3KO-3Nl",
        "outputId": "2466d77a-7736-4dd5-b57b-065e461187ab"
      },
      "execution_count": null,
      "outputs": [
        {
          "output_type": "execute_result",
          "data": {
            "text/plain": [
              "'bca'"
            ],
            "application/vnd.google.colaboratory.intrinsic+json": {
              "type": "string"
            }
          },
          "metadata": {},
          "execution_count": 36
        }
      ]
    },
    {
      "cell_type": "code",
      "source": [
        "S = input()\n",
        "print(S[1:]+S[0])"
      ],
      "metadata": {
        "colab": {
          "base_uri": "https://localhost:8080/"
        },
        "id": "ohoQprZZ-5b-",
        "outputId": "ec2fb378-15d8-41ec-a038-7cb008aed47b"
      },
      "execution_count": null,
      "outputs": [
        {
          "output_type": "stream",
          "name": "stdout",
          "text": [
            "abc\n",
            "bca\n"
          ]
        }
      ]
    },
    {
      "cell_type": "markdown",
      "source": [
        "# B - Orthogonality   \n"
      ],
      "metadata": {
        "id": "KKCmx16WAgq-"
      }
    },
    {
      "cell_type": "code",
      "source": [
        "N = int(input())\n",
        "N"
      ],
      "metadata": {
        "colab": {
          "base_uri": "https://localhost:8080/"
        },
        "id": "pzm3GJsiAuKH",
        "outputId": "89bc946d-301e-454c-ba3b-0efa8cb3e414"
      },
      "execution_count": null,
      "outputs": [
        {
          "name": "stdout",
          "output_type": "stream",
          "text": [
            "2\n"
          ]
        },
        {
          "output_type": "execute_result",
          "data": {
            "text/plain": [
              "2"
            ]
          },
          "metadata": {},
          "execution_count": 41
        }
      ]
    },
    {
      "cell_type": "code",
      "source": [
        "A = list(map(int,input().split()))\n",
        "B = list(map(int,input().split()))"
      ],
      "metadata": {
        "colab": {
          "base_uri": "https://localhost:8080/"
        },
        "id": "UPCSfgxq_Igg",
        "outputId": "4ad1866d-8436-442e-fa44-fef9f843929d"
      },
      "execution_count": null,
      "outputs": [
        {
          "name": "stdout",
          "output_type": "stream",
          "text": [
            "-3 6\n",
            "4 2\n"
          ]
        }
      ]
    },
    {
      "cell_type": "code",
      "source": [
        "A,B"
      ],
      "metadata": {
        "colab": {
          "base_uri": "https://localhost:8080/"
        },
        "id": "r8WRCoMhBMQJ",
        "outputId": "15accffb-1545-43cb-ca06-9c0825b17144"
      },
      "execution_count": null,
      "outputs": [
        {
          "output_type": "execute_result",
          "data": {
            "text/plain": [
              "([-3, 6], [4, 2])"
            ]
          },
          "metadata": {},
          "execution_count": 43
        }
      ]
    },
    {
      "cell_type": "code",
      "source": [
        "dot_product = 0\n",
        "for i in range(N):\n",
        "    dot_product += A[i]*B[i]\n",
        "if dot_product == 0:\n",
        "    print(\"Yes\")\n",
        "else:\n",
        "    print(\"No\")"
      ],
      "metadata": {
        "colab": {
          "base_uri": "https://localhost:8080/"
        },
        "id": "WsKCYSCgBRkT",
        "outputId": "fcd429c1-3394-4325-ce38-1b2b2cab2c04"
      },
      "execution_count": null,
      "outputs": [
        {
          "output_type": "stream",
          "name": "stdout",
          "text": [
            "Yes\n"
          ]
        }
      ]
    },
    {
      "cell_type": "code",
      "source": [
        "N = int(input())\n",
        "A = list(map(int,input().split()))\n",
        "B = list(map(int,input().split()))\n",
        "dot_product = 0\n",
        "for i in range(N):\n",
        "    dot_product += A[i]*B[i]\n",
        "if dot_product == 0:\n",
        "    print(\"Yes\")\n",
        "else:\n",
        "    print(\"No\")"
      ],
      "metadata": {
        "colab": {
          "base_uri": "https://localhost:8080/"
        },
        "id": "htHOQOAAB_TX",
        "outputId": "bbad33e7-d608-4aa9-8e3c-e482490ad09d"
      },
      "execution_count": null,
      "outputs": [
        {
          "output_type": "stream",
          "name": "stdout",
          "text": [
            "2\n",
            "4 5\n",
            "-1 -3\n",
            "No\n"
          ]
        }
      ]
    },
    {
      "cell_type": "markdown",
      "source": [
        "## B-Remove It\n",
        "長さ $N$ の整数列$A$ と整数$X$ が与えられます。  \n",
        "$A$ から$X$ と等しい要素を全て取り除き、残った要素をそのままの順序で並べた数列 $A$ を出力してください。"
      ],
      "metadata": {
        "id": "lqf1Cx7eGLIU"
      }
    },
    {
      "cell_type": "code",
      "source": [
        "N, X = map(int,input().split())\n",
        "A = list(map(int,input).split())"
      ],
      "metadata": {
        "id": "jytclWpgDG8T",
        "colab": {
          "base_uri": "https://localhost:8080/"
        },
        "outputId": "d9578bde-f4ba-487d-a64f-c4fc1f4b8d18"
      },
      "execution_count": 1,
      "outputs": [
        {
          "name": "stdout",
          "output_type": "stream",
          "text": [
            "5 5\n"
          ]
        },
        {
          "output_type": "execute_result",
          "data": {
            "text/plain": [
              "(5, 5)"
            ]
          },
          "metadata": {},
          "execution_count": 1
        }
      ]
    },
    {
      "cell_type": "code",
      "source": [
        "A = list(map(int,input().split()))\n",
        "A"
      ],
      "metadata": {
        "colab": {
          "base_uri": "https://localhost:8080/"
        },
        "id": "hirRWDgIG1d8",
        "outputId": "3bd7dd14-fb9a-4345-fc81-e62f4b963f9a"
      },
      "execution_count": 4,
      "outputs": [
        {
          "name": "stdout",
          "output_type": "stream",
          "text": [
            "3 5 6 5 4\n"
          ]
        },
        {
          "output_type": "execute_result",
          "data": {
            "text/plain": [
              "[3, 5, 6, 5, 4]"
            ]
          },
          "metadata": {},
          "execution_count": 4
        }
      ]
    },
    {
      "cell_type": "code",
      "source": [
        "[A[i] for i in range(N) if A[i]!=X]"
      ],
      "metadata": {
        "colab": {
          "base_uri": "https://localhost:8080/"
        },
        "id": "dqDePlqGHMuF",
        "outputId": "e75200cb-946a-4cf2-db4a-f1e20dfb54d5"
      },
      "execution_count": 6,
      "outputs": [
        {
          "output_type": "execute_result",
          "data": {
            "text/plain": [
              "[3, 6, 4]"
            ]
          },
          "metadata": {},
          "execution_count": 6
        }
      ]
    },
    {
      "cell_type": "code",
      "source": [
        "N, X = map(int,input().split())\n",
        "A = list(map(int,input().split()))\n",
        "ans = [A[i] for i in range(N) if A[i]!=X]\n",
        "print(*ans)"
      ],
      "metadata": {
        "colab": {
          "base_uri": "https://localhost:8080/"
        },
        "id": "5zx78Zn4HreX",
        "outputId": "e4fca66f-7019-4665-ff1d-e5557e5a454d"
      },
      "execution_count": 12,
      "outputs": [
        {
          "output_type": "stream",
          "name": "stdout",
          "text": [
            "5 5\n",
            "3 5 6 5 4\n",
            "3 6 4\n"
          ]
        }
      ]
    },
    {
      "cell_type": "markdown",
      "source": [
        "## B-Magic3\n",
        "魔法使いの高橋君は魔物と戦っています。  \n",
        "高橋君は$N$ 種類の呪文を使うことができます。\n",
        "$i$ 番目の呪文は詠唱に$X_i$秒かかり、威力は $Y_i$です。  \n",
        "ただし、この魔物は強いので、詠唱に$S$ 秒以上かかる呪文や、威力が $D$ 以下の呪文ではダメージを与えられません。   また、呪文以外の方法でダメージを与えることもできません。  \n",
        "高橋君は魔物にダメージを与えられるでしょうか？"
      ],
      "metadata": {
        "id": "PMob4nuYJvcJ"
      }
    },
    {
      "cell_type": "code",
      "source": [
        "N,S,D = map(int,input().split())\n",
        "N,S,D"
      ],
      "metadata": {
        "colab": {
          "base_uri": "https://localhost:8080/"
        },
        "id": "qKookQXHIhKy",
        "outputId": "32bf2fe4-e0ef-4fb9-b6a6-8387f90bba1a"
      },
      "execution_count": 13,
      "outputs": [
        {
          "name": "stdout",
          "output_type": "stream",
          "text": [
            "4 9 9\n"
          ]
        },
        {
          "output_type": "execute_result",
          "data": {
            "text/plain": [
              "(4, 9, 9)"
            ]
          },
          "metadata": {},
          "execution_count": 13
        }
      ]
    },
    {
      "cell_type": "code",
      "source": [
        "X = []\n",
        "Y = []\n",
        "for i in range(N):\n",
        "    x,y = map(int,input().split())\n",
        "    if S>x and y>D:\n",
        "        X.append(x)\n",
        "        Y.append(y)\n",
        "if len(X) ==0:\n",
        "    print(\"No\")\n",
        "else:\n",
        "    print(\"Yes\")"
      ],
      "metadata": {
        "colab": {
          "base_uri": "https://localhost:8080/"
        },
        "id": "b26-yhXWKmPt",
        "outputId": "049dd8b6-b626-445b-9257-8db2aeec339a"
      },
      "execution_count": 16,
      "outputs": [
        {
          "output_type": "stream",
          "name": "stdout",
          "text": [
            "5 5\n",
            "15 5\n",
            "5 15\n",
            "15 15\n",
            "Yes\n"
          ]
        }
      ]
    },
    {
      "cell_type": "code",
      "source": [
        "N,S,D = map(int,input().split())\n",
        "X = []\n",
        "Y = []\n",
        "for i in range(N):\n",
        "    x,y = map(int,input().split())\n",
        "    if S>x and y>D:\n",
        "        X.append(x)\n",
        "        Y.append(y)\n",
        "if len(X) ==0:\n",
        "    print(\"No\")\n",
        "else:\n",
        "    print(\"Yes\")"
      ],
      "metadata": {
        "id": "yjBXttU9K4R6"
      },
      "execution_count": null,
      "outputs": []
    },
    {
      "cell_type": "markdown",
      "source": [
        "exit()がポイント"
      ],
      "metadata": {
        "id": "ib6u8wKQNU-i"
      }
    },
    {
      "cell_type": "code",
      "source": [
        "N,S,D = map(int,input().split())\n",
        "for i in range(N):\n",
        "    x,y = map(int,input().split())\n",
        "    if x<S and y>D:\n",
        "        print(\"Yes\")\n",
        "        exit() // ここでプログラムを終了させる\n",
        "print(\"No\")"
      ],
      "metadata": {
        "id": "b6zJIW5RMMik"
      },
      "execution_count": null,
      "outputs": []
    }
  ]
}