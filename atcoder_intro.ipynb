{
  "nbformat": 4,
  "nbformat_minor": 0,
  "metadata": {
    "colab": {
      "provenance": [],
      "authorship_tag": "ABX9TyOTu+tVk1KbWSsh9gT+LBLP",
      "include_colab_link": true
    },
    "kernelspec": {
      "name": "python3",
      "display_name": "Python 3"
    },
    "language_info": {
      "name": "python"
    }
  },
  "cells": [
    {
      "cell_type": "markdown",
      "metadata": {
        "id": "view-in-github",
        "colab_type": "text"
      },
      "source": [
        "<a href=\"https://colab.research.google.com/github/niikun/atcoder_arc/blob/main/atcoder_intro.ipynb\" target=\"_parent\"><img src=\"https://colab.research.google.com/assets/colab-badge.svg\" alt=\"Open In Colab\"/></a>"
      ]
    },
    {
      "cell_type": "markdown",
      "source": [
        "## 問題文\n",
        "整数\n",
        "A,B,C が与えられます。  \n",
        "$A ^2 +B^2 <C^2$  \n",
        "  かを判定してください"
      ],
      "metadata": {
        "id": "D9TXfVKq9IuQ"
      }
    },
    {
      "cell_type": "code",
      "execution_count": null,
      "metadata": {
        "colab": {
          "base_uri": "https://localhost:8080/"
        },
        "id": "rB9DiTf12f9C",
        "outputId": "022b96a8-0212-406f-cfb3-bccd3afb5000"
      },
      "outputs": [
        {
          "name": "stdout",
          "output_type": "stream",
          "text": [
            "2 2 4\n"
          ]
        }
      ],
      "source": [
        "A,B,C = map(int,input().split())"
      ]
    },
    {
      "cell_type": "code",
      "source": [
        "A, B, C"
      ],
      "metadata": {
        "colab": {
          "base_uri": "https://localhost:8080/"
        },
        "id": "XHArbAyy3e6_",
        "outputId": "4b32b419-d4b6-46bf-c327-5d2b45875953"
      },
      "execution_count": null,
      "outputs": [
        {
          "output_type": "execute_result",
          "data": {
            "text/plain": [
              "(2, 2, 4)"
            ]
          },
          "metadata": {},
          "execution_count": 30
        }
      ]
    },
    {
      "cell_type": "code",
      "source": [
        "A ** 2 + B ** 2 < C ** 2"
      ],
      "metadata": {
        "colab": {
          "base_uri": "https://localhost:8080/"
        },
        "id": "ZyKalaFZ3nzF",
        "outputId": "e20897aa-5c84-43d7-fc18-30633e3bae3b"
      },
      "execution_count": null,
      "outputs": [
        {
          "output_type": "execute_result",
          "data": {
            "text/plain": [
              "True"
            ]
          },
          "metadata": {},
          "execution_count": 31
        }
      ]
    },
    {
      "cell_type": "code",
      "source": [
        "A,B,C = map(int,input().split())\n",
        "if A ** 2 + B ** 2 < C ** 2:\n",
        "    print(\"Yes\")\n",
        "else:\n",
        "    print(\"No\")\n"
      ],
      "metadata": {
        "colab": {
          "base_uri": "https://localhost:8080/"
        },
        "id": "7UqbX59f4pEn",
        "outputId": "15f6c767-4c2d-4f41-bd88-d834c100af13"
      },
      "execution_count": null,
      "outputs": [
        {
          "output_type": "stream",
          "name": "stdout",
          "text": [
            "10 10 10\n",
            "No\n"
          ]
        }
      ]
    },
    {
      "cell_type": "markdown",
      "source": [
        "## A-Rotate  \n",
        "長さ 3 の文字列 $S$ が与えられます。  \n",
        "$S$ の先頭の文字を $S$ の末尾に移動して得られる文字列$S′$\n",
        "  を出力してください。\n"
      ],
      "metadata": {
        "id": "ifnzO1dG-Wou"
      }
    },
    {
      "cell_type": "code",
      "source": [
        "S = input()\n",
        "S"
      ],
      "metadata": {
        "colab": {
          "base_uri": "https://localhost:8080/",
          "height": 55
        },
        "id": "oLriV5AD7oc5",
        "outputId": "cba47f30-f555-497f-a2bd-cd5c3d9073d8"
      },
      "execution_count": null,
      "outputs": [
        {
          "name": "stdout",
          "output_type": "stream",
          "text": [
            "abc\n"
          ]
        },
        {
          "output_type": "execute_result",
          "data": {
            "text/plain": [
              "'abc'"
            ],
            "application/vnd.google.colaboratory.intrinsic+json": {
              "type": "string"
            }
          },
          "metadata": {},
          "execution_count": 35
        }
      ]
    },
    {
      "cell_type": "code",
      "source": [
        "S[1:]+S[0]"
      ],
      "metadata": {
        "colab": {
          "base_uri": "https://localhost:8080/",
          "height": 36
        },
        "id": "XfTrS3KO-3Nl",
        "outputId": "2466d77a-7736-4dd5-b57b-065e461187ab"
      },
      "execution_count": null,
      "outputs": [
        {
          "output_type": "execute_result",
          "data": {
            "text/plain": [
              "'bca'"
            ],
            "application/vnd.google.colaboratory.intrinsic+json": {
              "type": "string"
            }
          },
          "metadata": {},
          "execution_count": 36
        }
      ]
    },
    {
      "cell_type": "code",
      "source": [
        "S = input()\n",
        "print(S[1:]+S[0])"
      ],
      "metadata": {
        "colab": {
          "base_uri": "https://localhost:8080/"
        },
        "id": "ohoQprZZ-5b-",
        "outputId": "ec2fb378-15d8-41ec-a038-7cb008aed47b"
      },
      "execution_count": null,
      "outputs": [
        {
          "output_type": "stream",
          "name": "stdout",
          "text": [
            "abc\n",
            "bca\n"
          ]
        }
      ]
    },
    {
      "cell_type": "markdown",
      "source": [
        "# B - Orthogonality   \n"
      ],
      "metadata": {
        "id": "KKCmx16WAgq-"
      }
    },
    {
      "cell_type": "code",
      "source": [
        "N = int(input())\n",
        "N"
      ],
      "metadata": {
        "colab": {
          "base_uri": "https://localhost:8080/"
        },
        "id": "pzm3GJsiAuKH",
        "outputId": "89bc946d-301e-454c-ba3b-0efa8cb3e414"
      },
      "execution_count": null,
      "outputs": [
        {
          "name": "stdout",
          "output_type": "stream",
          "text": [
            "2\n"
          ]
        },
        {
          "output_type": "execute_result",
          "data": {
            "text/plain": [
              "2"
            ]
          },
          "metadata": {},
          "execution_count": 41
        }
      ]
    },
    {
      "cell_type": "code",
      "source": [
        "A = list(map(int,input().split()))\n",
        "B = list(map(int,input().split()))"
      ],
      "metadata": {
        "colab": {
          "base_uri": "https://localhost:8080/"
        },
        "id": "UPCSfgxq_Igg",
        "outputId": "4ad1866d-8436-442e-fa44-fef9f843929d"
      },
      "execution_count": null,
      "outputs": [
        {
          "name": "stdout",
          "output_type": "stream",
          "text": [
            "-3 6\n",
            "4 2\n"
          ]
        }
      ]
    },
    {
      "cell_type": "code",
      "source": [
        "A,B"
      ],
      "metadata": {
        "colab": {
          "base_uri": "https://localhost:8080/"
        },
        "id": "r8WRCoMhBMQJ",
        "outputId": "15accffb-1545-43cb-ca06-9c0825b17144"
      },
      "execution_count": null,
      "outputs": [
        {
          "output_type": "execute_result",
          "data": {
            "text/plain": [
              "([-3, 6], [4, 2])"
            ]
          },
          "metadata": {},
          "execution_count": 43
        }
      ]
    },
    {
      "cell_type": "code",
      "source": [
        "dot_product = 0\n",
        "for i in range(N):\n",
        "    dot_product += A[i]*B[i]\n",
        "if dot_product == 0:\n",
        "    print(\"Yes\")\n",
        "else:\n",
        "    print(\"No\")"
      ],
      "metadata": {
        "colab": {
          "base_uri": "https://localhost:8080/"
        },
        "id": "WsKCYSCgBRkT",
        "outputId": "fcd429c1-3394-4325-ce38-1b2b2cab2c04"
      },
      "execution_count": null,
      "outputs": [
        {
          "output_type": "stream",
          "name": "stdout",
          "text": [
            "Yes\n"
          ]
        }
      ]
    },
    {
      "cell_type": "code",
      "source": [
        "N = int(input())\n",
        "A = list(map(int,input().split()))\n",
        "B = list(map(int,input().split()))\n",
        "dot_product = 0\n",
        "for i in range(N):\n",
        "    dot_product += A[i]*B[i]\n",
        "if dot_product == 0:\n",
        "    print(\"Yes\")\n",
        "else:\n",
        "    print(\"No\")"
      ],
      "metadata": {
        "colab": {
          "base_uri": "https://localhost:8080/"
        },
        "id": "htHOQOAAB_TX",
        "outputId": "bbad33e7-d608-4aa9-8e3c-e482490ad09d"
      },
      "execution_count": null,
      "outputs": [
        {
          "output_type": "stream",
          "name": "stdout",
          "text": [
            "2\n",
            "4 5\n",
            "-1 -3\n",
            "No\n"
          ]
        }
      ]
    },
    {
      "cell_type": "markdown",
      "source": [],
      "metadata": {
        "id": "ZOUkoOuPEdbK"
      }
    },
    {
      "cell_type": "code",
      "source": [],
      "metadata": {
        "id": "jytclWpgDG8T"
      },
      "execution_count": null,
      "outputs": []
    },
    {
      "cell_type": "markdown",
      "source": [
        "## B - Do you know the second highest mountain?  \n",
        "AtCoder国には $N$個の山があり、$i$個目の山の名前は $S_i$\n",
        " , 高さは$T_i$です。  \n",
        "2 番目に高い山の名前を答えてください。\n",
        "$N$ 個の山の名前、高さはそれぞれ相異なることが保証されます。"
      ],
      "metadata": {
        "id": "7m33y6H2EkIK"
      }
    },
    {
      "cell_type": "code",
      "source": [
        "N = int(input())\n",
        "mountains = {}\n",
        "for n in range(N):\n",
        "    S,T = input().split()\n",
        "    mountains[S] = int(T)\n",
        "mountains_sorted = sorted(mountains.items(),key=lambda x:x[1],reverse=True)\n",
        "print(mountains_sorted[1][0])"
      ],
      "metadata": {
        "colab": {
          "base_uri": "https://localhost:8080/"
        },
        "id": "ZnkGlwjrE_hk",
        "outputId": "c0ac0f00-4617-4d48-ea96-54cec1c443df"
      },
      "execution_count": null,
      "outputs": [
        {
          "output_type": "stream",
          "name": "stdout",
          "text": [
            "3\n",
            "Everest 8849\n",
            "K2 8611\n",
            "Kangchenjunga 8586\n",
            "K2\n"
          ]
        }
      ]
    },
    {
      "cell_type": "code",
      "source": [
        "mountains"
      ],
      "metadata": {
        "colab": {
          "base_uri": "https://localhost:8080/"
        },
        "id": "DNMoCwFnFMio",
        "outputId": "c2391737-25fc-40b6-a67f-40336604bce6"
      },
      "execution_count": null,
      "outputs": [
        {
          "output_type": "execute_result",
          "data": {
            "text/plain": [
              "{'a': 1, 'b': 2, 'c': 3}"
            ]
          },
          "metadata": {},
          "execution_count": 7
        }
      ]
    },
    {
      "cell_type": "markdown",
      "source": [
        "## B - Magic\n",
        "魔法使いの高橋君は魔物と戦っています。\n",
        "高橋君は N 種類の呪文を使うことができます。   \n",
        "i 番目の呪文は詠唱に $X _i​$\n",
        "  秒かかり、威力は $Y_i$ です。\n",
        "ただし、この魔物は強いので、詠唱に\n",
        "$S$ 秒以上かかる呪文や、威力が\n",
        "$D$ 以下の呪文ではダメージを与えられません。  \n",
        "また、呪文以外の方法でダメージを与えることもできません。\n",
        "高橋君は魔物にダメージを与えられるでしょうか？"
      ],
      "metadata": {
        "id": "5BRZJpqbVTle"
      }
    },
    {
      "cell_type": "code",
      "source": [
        "N, S, D = map(int,input().split())\n",
        "N,S,D"
      ],
      "metadata": {
        "colab": {
          "base_uri": "https://localhost:8080/"
        },
        "id": "cEqGyetcVuRq",
        "outputId": "b21eebe0-31ac-4538-99ef-df3677c26993"
      },
      "execution_count": null,
      "outputs": [
        {
          "name": "stdout",
          "output_type": "stream",
          "text": [
            "4 9 9\n"
          ]
        },
        {
          "output_type": "execute_result",
          "data": {
            "text/plain": [
              "(4, 9, 9)"
            ]
          },
          "metadata": {},
          "execution_count": 1
        }
      ]
    },
    {
      "cell_type": "code",
      "source": [
        "for i in range(N):\n",
        "    X ,Y = map(int,input().split())\n",
        "    if X < S and Y > D:\n",
        "        print(\"Yes\")\n",
        "        exit()\n",
        "print(\"No\")"
      ],
      "metadata": {
        "colab": {
          "base_uri": "https://localhost:8080/"
        },
        "id": "ksFpYADBVuM-",
        "outputId": "028d3288-a6bc-47f2-9770-dcd6324deba7"
      },
      "execution_count": null,
      "outputs": [
        {
          "output_type": "stream",
          "name": "stdout",
          "text": [
            "5 5\n",
            "15 5\n",
            "5 15\n",
            "Yes\n",
            "15 15\n",
            "No\n"
          ]
        }
      ]
    },
    {
      "cell_type": "code",
      "source": [
        "N, S, D = map(int,input().split())\n",
        "for i in range(N):\n",
        "    X ,Y = map(int,input().split())\n",
        "    if X < S and Y > D:\n",
        "        print(\"Yes\")\n",
        "        exit()\n",
        "print(\"No\")"
      ],
      "metadata": {
        "id": "T9h2Ky1wXpel"
      },
      "execution_count": null,
      "outputs": []
    },
    {
      "cell_type": "markdown",
      "source": [
        "## B - Visibility  \n",
        "縦 $H$ 行、横$W$ 列のマス目があり、いくつかのマスには障害物が置かれています。\n",
        "上から\n",
        "i 番目、左から\n",
        "j 番目のマスをマス\n",
        "(i,j) と表すことにします。\n",
        "$H$ 個の文字列$S1 ,S2 ,S3,…,SH$が与えられます。\n",
        "$S_i​$ の $j$ 文字目はマス$(i,j)$ の状態を表し、$#$ なら障害物が置かれていることを、. なら障害物が置かれていないことを表します。\n",
        "このマス目上のあるマスからあるマスが見えるとは、\n",
        "2 つのマスが同じ行または列にあり、\n",
        "2 つのマスの間 (\n",
        "2 つのマス自身を含む) に障害物が\n",
        "1 つも置かれていないことを意味します。\n",
        "このマス目上のマスであって、マス$(X,Y)$ から見えるもの (マス$(X,Y)$ 自身を含む) の数を求めてください。\n",
        "\n",
        "制約"
      ],
      "metadata": {
        "id": "OVY6YJ-QLLzx"
      }
    },
    {
      "cell_type": "code",
      "source": [
        "H,W,X,Y = map(int,input().split())\n",
        "H,W,X,Y"
      ],
      "metadata": {
        "colab": {
          "base_uri": "https://localhost:8080/"
        },
        "id": "Mog_Q3i0HHuM",
        "outputId": "8ca62cf6-ad72-45fe-a153-653234f664b8"
      },
      "execution_count": 17,
      "outputs": [
        {
          "name": "stdout",
          "output_type": "stream",
          "text": [
            "4 4 2 2\n"
          ]
        },
        {
          "output_type": "execute_result",
          "data": {
            "text/plain": [
              "(4, 4, 2, 2)"
            ]
          },
          "metadata": {},
          "execution_count": 17
        }
      ]
    },
    {
      "cell_type": "code",
      "source": [
        "grid=[]\n",
        "for h in range(H):\n",
        "    S = input()\n",
        "    S = list(S)\n",
        "    grid.append(S)\n",
        "grid\n"
      ],
      "metadata": {
        "colab": {
          "base_uri": "https://localhost:8080/"
        },
        "id": "Ez7g-fE3Mia_",
        "outputId": "69799ba1-3022-4d9d-93af-703c04e87af0"
      },
      "execution_count": 11,
      "outputs": [
        {
          "name": "stdout",
          "output_type": "stream",
          "text": [
            "##..\n",
            "...#\n",
            "#.#.\n",
            ".#.#\n"
          ]
        },
        {
          "output_type": "execute_result",
          "data": {
            "text/plain": [
              "[['#', '#', '.', '.'],\n",
              " ['.', '.', '.', '#'],\n",
              " ['#', '.', '#', '.'],\n",
              " ['.', '#', '.', '#']]"
            ]
          },
          "metadata": {},
          "execution_count": 11
        }
      ]
    },
    {
      "cell_type": "code",
      "source": [
        "X-=1\n",
        "Y-=1"
      ],
      "metadata": {
        "id": "e8d61j7HNGXg"
      },
      "execution_count": 18,
      "outputs": []
    },
    {
      "cell_type": "code",
      "source": [
        "grid[X][Y]"
      ],
      "metadata": {
        "colab": {
          "base_uri": "https://localhost:8080/",
          "height": 36
        },
        "id": "xOp2rpaBNOQF",
        "outputId": "5d4e5806-0018-4615-c274-2b4d0e8bb776"
      },
      "execution_count": 19,
      "outputs": [
        {
          "output_type": "execute_result",
          "data": {
            "text/plain": [
              "'.'"
            ],
            "application/vnd.google.colaboratory.intrinsic+json": {
              "type": "string"
            }
          },
          "metadata": {},
          "execution_count": 19
        }
      ]
    },
    {
      "cell_type": "code",
      "source": [
        "ans = 0\n",
        "# 上\n",
        "for i in range(1,H):\n",
        "    if 0<=X-i<H:\n",
        "        if grid[X-i][Y] == \".\":\n",
        "            ans += 1\n",
        "        else:\n",
        "            break\n",
        "for i in range()"
      ],
      "metadata": {
        "id": "H1uhjSkHTz_7",
        "colab": {
          "base_uri": "https://localhost:8080/"
        },
        "outputId": "2507ddd0-e5eb-4e5f-edb3-aa8a46a47e79"
      },
      "execution_count": 20,
      "outputs": [
        {
          "output_type": "stream",
          "name": "stdout",
          "text": [
            "6\n"
          ]
        }
      ]
    },
    {
      "cell_type": "code",
      "source": [],
      "metadata": {
        "id": "bRiQkazF-89g"
      },
      "execution_count": null,
      "outputs": []
    }
  ]
}